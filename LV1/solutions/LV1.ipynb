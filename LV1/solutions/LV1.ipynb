{
  "nbformat": 4,
  "nbformat_minor": 0,
  "metadata": {
    "colab": {
      "provenance": []
    },
    "kernelspec": {
      "name": "python3",
      "display_name": "Python 3"
    },
    "language_info": {
      "name": "python"
    }
  },
  "cells": [
    {
      "cell_type": "code",
      "execution_count": 12,
      "metadata": {
        "colab": {
          "base_uri": "https://localhost:8080/"
        },
        "id": "L2PlaHcgp1e7",
        "outputId": "c7115a54-7387-4946-ee16-161240467014"
      },
      "outputs": [
        {
          "output_type": "stream",
          "name": "stdout",
          "text": [
            "Radni sati: 5\n",
            "kn/h: 15\n",
            "Ukupno: 75.0 kn\n"
          ]
        }
      ],
      "source": [
        "#Zadatak 1\n",
        "hours= float(input(\"Radni sati: \"))\n",
        "rate= float(input(\"kn/h: \"))\n",
        "print(\"Ukupno: \" + str(hours*rate) + \" kn\")"
      ]
    },
    {
      "cell_type": "code",
      "source": [
        "#Zadatak 2\n",
        "try:\n",
        "  ocjena= float( input(\"Unesi broj: \"))\n",
        "  if (ocjena > 1.0 or ocjena < 0.0):\n",
        "    print(\"Ocjena nije u intervalu [0.0,1.0]\")\n",
        "  elif (ocjena >= 0.9):\n",
        "    print(\"A\")\n",
        "  elif ocjena >= 0.8:\n",
        "    print(\"B\")\n",
        "  elif ocjena >= 0.7:\n",
        "    print(\"C\")\n",
        "  elif ocjena >= 0.6:\n",
        "    print(\"D\")\n",
        "  elif ocjena <0.6:\n",
        "    print(\"F\")\n",
        "except:\n",
        "    print(\"Nije unešen broj\")\n"
      ],
      "metadata": {
        "colab": {
          "base_uri": "https://localhost:8080/"
        },
        "id": "-Kdu2XUtqBJv",
        "outputId": "582de9ec-123b-41d1-dd89-fda37562c777"
      },
      "execution_count": 10,
      "outputs": [
        {
          "output_type": "stream",
          "name": "stdout",
          "text": [
            "Unesi broj: -1\n",
            "Ocjena nije u intervalu [0.0,1.0]\n"
          ]
        }
      ]
    },
    {
      "cell_type": "code",
      "source": [
        "#Zadatak 3\n",
        "\n",
        "def total_kn(hours,rate):\n",
        "  return hours*rate\n",
        "\n",
        "hours= float(input(\"Radni sati: \"))\n",
        "rate= float(input(\"kn/h: \"))\n",
        "print(\"Ukupno: \" + str(total_kn(hours,rate)) + \" kn\")"
      ],
      "metadata": {
        "colab": {
          "base_uri": "https://localhost:8080/"
        },
        "id": "Ht5O24BLrMvq",
        "outputId": "024cc15c-d576-43b9-c5af-5f1d8477a6f9"
      },
      "execution_count": 11,
      "outputs": [
        {
          "output_type": "stream",
          "name": "stdout",
          "text": [
            "Radni sati: 5\n",
            "kn/h: 15\n",
            "Ukupno: 75.0\n"
          ]
        }
      ]
    },
    {
      "cell_type": "code",
      "source": [
        "#Zadatak 4\n",
        "count=0\n",
        "sum=0\n",
        "broj=[]\n",
        "while 1:\n",
        "  ulaz=input(\"Unesi broj: \")\n",
        "  if ulaz==\"Done\":\n",
        "    break\n",
        "  elif (ulaz>='a' and ulaz<='z') or (ulaz>='A' and ulaz<='Z'):\n",
        "    print(\"Nije unešen broj\")\n",
        "  else:\n",
        "    broj.append(ulaz)\n",
        "for br in broj:\n",
        "  sum=sum+float(br)\n",
        "print(\"Duljina: \" + str(len(broj)))\n",
        "print(\"Srednja vrijednost: \" + str(sum/len(broj)))\n",
        "print(\"Max vrijednost: \" + str(max(broj)))\n",
        "print(\"Min vrijednost: \" + str(min(broj)))"
      ],
      "metadata": {
        "colab": {
          "base_uri": "https://localhost:8080/"
        },
        "id": "SfxhpO_1rh4w",
        "outputId": "fe608d61-b1b8-4b7a-bb1b-554679774580"
      },
      "execution_count": 22,
      "outputs": [
        {
          "output_type": "stream",
          "name": "stdout",
          "text": [
            "Unesi broj: 5\n",
            "Unesi broj: 10\n",
            "Unesi broj: 15\n",
            "Unesi broj: Done\n",
            "Duljina: 3\n",
            "Srednja vrijednost: 10.0\n",
            "Max vrijednost: 5\n",
            "Min vrijednost: 10\n"
          ]
        }
      ]
    },
    {
      "cell_type": "code",
      "source": [
        "#Zadatak 5\n",
        "sum=0\n",
        "count=0\n",
        "fileToOpen=input(\"Unesi ime datoteke: \")\n",
        "fhand = open(fileToOpen) \n",
        "for line in fhand: \n",
        " line = line.rstrip() \n",
        " if line.startswith('X-DSPAM-Confidence:'):\n",
        "   count=count+1\n",
        "   number=line.split(' ')\n",
        "   sum=sum+float(number[-1])\n",
        "print(\"Ime datoteke: \" + fileToOpen)\n",
        "print(\"Average X-DSPAM-Confidence: \" + str(sum/count))"
      ],
      "metadata": {
        "colab": {
          "base_uri": "https://localhost:8080/"
        },
        "id": "qtb-E1Tuux4w",
        "outputId": "d2337f24-3e78-4e96-fe3d-d50e1bd8f2b0"
      },
      "execution_count": 31,
      "outputs": [
        {
          "output_type": "stream",
          "name": "stdout",
          "text": [
            "Unesi ime datoteke: mbox-short.txt\n",
            "Ime datoteke: mbox-short.txt\n",
            "Average X-DSPAM-Confidence: 0.7507185185185187\n"
          ]
        }
      ]
    },
    {
      "cell_type": "code",
      "source": [
        "#Zadatak 6\n",
        "\n",
        "\n",
        "#Copy paste sa geeks4geeks\n",
        "def count_unique(my_list):\n",
        " \n",
        "    # creating dictionary to count frequency\n",
        "    freq = {}\n",
        " \n",
        "    # traversing the list\n",
        "    for x in my_list:\n",
        "        if (x in freq):\n",
        "            freq[x] += 1\n",
        "        else:\n",
        "            freq[x] = 1\n",
        "\n",
        "    return freq\n",
        "    \n",
        "\n",
        "\n",
        "\n",
        "adrese=[]\n",
        "domene=[]\n",
        "domeneDict=dict()\n",
        "fhand = open('mbox-short.txt')\n",
        "for line in fhand:\n",
        "  line.rstrip()\n",
        "  if line.startswith('From: '):\n",
        "    line=line.split(' ')\n",
        "    adrese.append(line[-1].rstrip())\n",
        "    line=adrese[-1].split('@')\n",
        "    domene.append(line[-1].rstrip())\n",
        "\n",
        "domeneDict=count_unique(domene)\n",
        "print(adrese[0])\n",
        "print(adrese[1])\n",
        "print(domeneDict)\n",
        "print(domeneDict['caret.cam.ac.uk'])\n",
        "print(domeneDict['gmail.com'])\n",
        "\n"
      ],
      "metadata": {
        "colab": {
          "base_uri": "https://localhost:8080/"
        },
        "id": "ZkFlsCg2xLqY",
        "outputId": "8a4e32ec-7c78-4d17-be21-d43299416ffd"
      },
      "execution_count": 52,
      "outputs": [
        {
          "output_type": "stream",
          "name": "stdout",
          "text": [
            "stephen.marquard@uct.ac.za\n",
            "louis@media.berkeley.edu\n",
            "{'uct.ac.za': 6, 'media.berkeley.edu': 4, 'umich.edu': 7, 'iupui.edu': 8, 'caret.cam.ac.uk': 1, 'gmail.com': 1}\n",
            "1\n",
            "1\n"
          ]
        }
      ]
    },
    {
      "cell_type": "code",
      "source": [],
      "metadata": {
        "id": "NGMQKWW-3nDs"
      },
      "execution_count": null,
      "outputs": []
    }
  ]
}
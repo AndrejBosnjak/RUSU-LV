{
  "nbformat": 4,
  "nbformat_minor": 0,
  "metadata": {
    "colab": {
      "provenance": []
    },
    "kernelspec": {
      "name": "python3",
      "display_name": "Python 3"
    },
    "language_info": {
      "name": "python"
    }
  },
  "cells": [
    {
      "cell_type": "code",
      "execution_count": null,
      "metadata": {
        "id": "y12Zn64c_Giw"
      },
      "outputs": [],
      "source": [
        "#Zadatak 1\n",
        "\n",
        "import pandas as pd\n",
        "import numpy as np\n",
        "\n",
        "mtcars = pd.read_csv('mtcars.csv') \n",
        "\n",
        "potrosaci=mtcars.sort_values(by=[\"mpg\"])\n",
        "print(\"Najveći potrošači: \")\n",
        "print(potrosaci.head(5)[\"car\"])\n",
        "print(\"============================================================================================================================================\")\n",
        "cilindra_8=mtcars.query(\"cyl == [8]\")\n",
        "Nepotrosaci_8cilindra=cilindra_8.sort_values(by=[\"mpg\"], ascending=False)\n",
        "print(\"Najmanji potrošaći sa 8 cilindra: \")\n",
        "print(Nepotrosaci_8cilindra.head(3))\n",
        "print(\"============================================================================================================================================\")\n",
        "cilindra_6=mtcars.query(\"cyl == [6]\")\n",
        "print(\"Srednja potrošnja (mpg) auta sa 6 cilindra: \")\n",
        "print(cilindra_6.mean(numeric_only=True).mpg)\n",
        "print(\"============================================================================================================================================\")\n",
        "cilindra_4=mtcars.query(\"cyl == [4] & wt > 2 & wt < 2.2\")\n",
        "print(\"Srednja potrošnja (mpg) auta sa 4 cilinda i težinom izmešu 2000 i 2200 lbs: \")\n",
        "print(cilindra_4.mean(numeric_only=True).mpg)\n",
        "print(\"============================================================================================================================================\")\n",
        "automatici=mtcars.query(\"am == [0]\")\n",
        "manualni=mtcars.query(\"am == [1]\")\n",
        "print(\"Broj automatika u ovoj listi: \" + str(len(automatici)) + \", a broj manualnih automobila: \" + str(len(manualni)))\n",
        "print(\"============================================================================================================================================\")\n",
        "automatici_100hp=mtcars.query(\"am == [0] & hp>=100\")\n",
        "print(\"Broj automatika u ovoj listi preko 100hp: \" + str(len(automatici_100hp)))\n",
        "print(\"============================================================================================================================================\")\n",
        "print(\"Masa svakog automobila u kilogramima: \")\n",
        "for index, car in mtcars.iterrows():\n",
        "  print(car.wt*0.45359237*1000)\n"
      ]
    },
    {
      "cell_type": "code",
      "source": [
        "#Zadatak 2\n",
        "\n",
        "import pandas as pd\n",
        "import numpy as np\n",
        "import matplotlib.pyplot as plt \n",
        "\n",
        "mtcars=pd.read_csv(\"mtcars.csv\")\n",
        "\n",
        "cilindra_4=mtcars.query(\"cyl == [4]\")\n",
        "cilindra_6=mtcars.query(\"cyl == [6]\")\n",
        "cilindra_8=mtcars.query(\"cyl == [8]\")\n",
        "x=[4,6,8]\n",
        "y=[cilindra_4.mean(numeric_only=True).mpg, cilindra_6.mean(numeric_only=True).mpg, cilindra_8.mean(numeric_only=True).mpg]\n",
        "\n",
        "plt.bar(x, y)\n",
        "plt.xlabel(\"Broj cilindra\")\n",
        "plt.ylabel(\"Potrošnja [mpg]\")\n",
        "plt.title(\"Prosječnja potrošnja prema broju cilindra\")\n",
        "plt.show()\n",
        "\n",
        "print(\"============================================================================================================================================\")\n",
        "data=[cilindra_4.wt,cilindra_6.wt,cilindra_8.wt]\n",
        "plt.boxplot(data)\n",
        "plt.title(\"Distribucija težine s 4 6 i 8 cilindra\")\n",
        "plt.show()\n",
        "\n",
        "print(\"============================================================================================================================================\")\n",
        "automatici=mtcars.query(\"am == [0]\")\n",
        "manualni=mtcars.query(\"am == [1]\")\n",
        "ax=automatici.plot.scatter(x=\"hp\", y=\"mpg\", color=\"Blue\", label=\"Automatici\")\n",
        "manualni.plot.scatter(x=\"hp\", y=\"mpg\", color=\"Green\", label=\"Manualni\", ax=ax)\n",
        "plt.show()\n",
        "print(\"Zaključak je da automobili sa manualnim mjenjačem imaju veći MPG\")\n",
        "\n",
        "print(\"============================================================================================================================================\")\n",
        "automatici=mtcars.query(\"am == [0]\")\n",
        "manualni=mtcars.query(\"am == [1]\")\n",
        "ax=automatici.plot.scatter(x=\"hp\", y=\"qsec\", color=\"Blue\", label=\"Automatici\")\n",
        "manualni.plot.scatter(x=\"hp\", y=\"qsec\", color=\"Green\", label=\"Manualni\", ax=ax)\n",
        "plt.show()\n",
        "\n"
      ],
      "metadata": {
        "colab": {
          "base_uri": "https://localhost:8080/",
          "height": 1000
        },
        "id": "dXhaOkGhAd2g",
        "outputId": "6f20775f-ab62-4485-d424-2dbebf7eeeb3"
      },
      "execution_count": null,
      "outputs": [
        {
          "output_type": "display_data",
          "data": {
            "text/plain": [
              "<Figure size 432x288 with 1 Axes>"
            ],
            "image/png": "[encoded data removed]"
          },
          "metadata": {
            "needs_background": "light"
          }
        },
        {
          "output_type": "stream",
          "name": "stdout",
          "text": [
            "============================================================================================================================================\n"
          ]
        },
        {
          "output_type": "stream",
          "name": "stderr",
          "text": [
            "/usr/local/lib/python3.8/dist-packages/matplotlib/cbook/__init__.py:1376: VisibleDeprecationWarning: Creating an ndarray from ragged nested sequences (which is a list-or-tuple of lists-or-tuples-or ndarrays with different lengths or shapes) is deprecated. If you meant to do this, you must specify 'dtype=object' when creating the ndarray.\n",
            "  X = np.atleast_1d(X.T if isinstance(X, np.ndarray) else np.asarray(X))\n"
          ]
        },
        {
          "output_type": "display_data",
          "data": {
            "text/plain": [
              "<Figure size 432x288 with 1 Axes>"
            ],
            "image/png": "[encoded data removed]"
          },
          "metadata": {
            "needs_background": "light"
          }
        },
        {
          "output_type": "stream",
          "name": "stdout",
          "text": [
            "============================================================================================================================================\n"
          ]
        },
        {
          "output_type": "display_data",
          "data": {
            "text/plain": [
              "<Figure size 432x288 with 1 Axes>"
            ],
            "image/png": "[encoded data removed]"
          },
          "metadata": {
            "needs_background": "light"
          }
        },
        {
          "output_type": "stream",
          "name": "stdout",
          "text": [
            "Zaključak je da automatici imaju veći MPG\n",
            "============================================================================================================================================\n"
          ]
        },
        {
          "output_type": "display_data",
          "data": {
            "text/plain": [
              "<Figure size 432x288 with 1 Axes>"
            ],
            "image/png": "[encoded data removed]"
          },
          "metadata": {
            "needs_background": "light"
          }
        }
      ]
    },
    {
      "cell_type": "code",
      "source": [
        "#Zadatak 3\n",
        "\n",
        "import pandas as pd\n",
        "from datetime import datetime\n",
        "from urllib.request import urlopen\n",
        "import json\n",
        "import matplotlib.pyplot as plt\n",
        "\n",
        "url = \"http://iszz.azo.hr/iskzl/rs/podatak/export/json?postaja=160&polutant=5&tipPodatka=4&vrijemeOd=01.01.2017&vrijemeDo=31.12.2017\"\n",
        "\n",
        "response = urlopen(url)\n",
        "data_json = json.loads(response.read())\n",
        "\n",
        "for item in data_json:\n",
        "    item['vrijeme'] = datetime.fromtimestamp(item['vrijeme']/1000).strftime(\"%Y-%m-%d\")\n",
        "    \n",
        "df = pd.DataFrame(data_json)\n",
        "print(\"Dnevna koncentracija PM10 čestica u zraku za 2017. godinu u Osijeku:\\n\", df)\n",
        "\n",
        "print(\"============================================================================================================================================\")\n",
        "\n",
        "greatest_PM10 = df.sort_values(by=['vrijednost'], ascending=True)\n",
        "top_3_PM10_conc = greatest_PM10.head(3)\n",
        "print(\"Dani sa najvećom vrijednošću čestica: \\n\", top_3_PM10_conc) \n",
        "\n"
      ],
      "metadata": {
        "colab": {
          "base_uri": "https://localhost:8080/"
        },
        "id": "02739IknbB3Z",
        "outputId": "4106b333-fecf-4b99-b7d7-62658e67a4b3"
      },
      "execution_count": 9,
      "outputs": [
        {
          "output_type": "stream",
          "name": "stdout",
          "text": [
            "Dnevna koncentracija PM10 čestica u zraku za 2017. godinu u Osijeku:\n",
            "      vrijednost mjernaJedinica     vrijeme\n",
            "0        54.542          µg/m3  2016-12-31\n",
            "1        70.720          µg/m3  2017-01-01\n",
            "2        29.707          µg/m3  2017-01-02\n",
            "3        31.021          µg/m3  2017-01-03\n",
            "4        23.034          µg/m3  2017-01-04\n",
            "..          ...            ...         ...\n",
            "349      38.957          µg/m3  2017-12-25\n",
            "350      24.042          µg/m3  2017-12-26\n",
            "351      12.057          µg/m3  2017-12-27\n",
            "352       9.857          µg/m3  2017-12-28\n",
            "353      25.487          µg/m3  2017-12-29\n",
            "\n",
            "[354 rows x 3 columns]\n",
            "============================================================================================================================================\n",
            "Dani sa najvećom vrijednošću čestica: \n",
            "      vrijednost mjernaJedinica     vrijeme\n",
            "295       0.765          µg/m3  2017-10-22\n",
            "65        5.039          µg/m3  2017-03-06\n",
            "342       5.183          µg/m3  2017-12-12\n"
          ]
        }
      ]
    }
  ]
}